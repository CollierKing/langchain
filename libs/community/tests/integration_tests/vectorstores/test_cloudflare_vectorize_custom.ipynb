{
 "cells": [
  {
   "cell_type": "markdown",
   "source": [
    "# Cloudflare Vectorize Walkthrough\n",
    "\n",
    "This notebook demonstrates Cloudflare Vectorize's functionality via the LangChain python package."
   ],
   "metadata": {
    "collapsed": false
   }
  },
  {
   "cell_type": "code",
   "execution_count": 25,
   "outputs": [],
   "source": [
    "import json\n",
    "import itertools\n",
    "import asyncio\n",
    "import warnings\n",
    "from datetime import datetime\n",
    "import pandas as pd\n",
    "import os\n",
    "from dotenv import load_dotenv\n",
    "\n",
    "warnings.filterwarnings('ignore')\n",
    "\n",
    "from langchain_community.embeddings.cloudflare_workersai import CloudflareWorkersAIEmbeddings\n",
    "from langchain_community.document_loaders import WikipediaLoader\n",
    "from langchain_text_splitters import RecursiveCharacterTextSplitter\n",
    "\n",
    "from libs.community.langchain_community.vectorstores.cloudflare_vectorize import CloudflareVectorize, VectorizeRecord\n",
    "\n"
   ],
   "metadata": {
    "collapsed": false
   }
  },
  {
   "cell_type": "markdown",
   "source": [
    "# Setup/Params"
   ],
   "metadata": {
    "collapsed": false
   }
  },
  {
   "cell_type": "code",
   "execution_count": 2,
   "outputs": [],
   "source": [
    "# name your vectorize index\n",
    "vectorize_index_name = \"test-langchain\""
   ],
   "metadata": {
    "collapsed": false
   }
  },
  {
   "cell_type": "markdown",
   "source": [
    "## Embeddings\n",
    "\n",
    "For storage of embeddings, semantic search and retrieval, you must embed your raw values as embeddings.  Specify an embedding model, one available on WorkersAI\n",
    "\n",
    "[https://developers.cloudflare.com/workers-ai/models/](https://developers.cloudflare.com/workers-ai/models/)"
   ],
   "metadata": {
    "collapsed": false
   }
  },
  {
   "cell_type": "code",
   "execution_count": 3,
   "outputs": [],
   "source": [
    "MODEL_WORKERSAI = \"@cf/baai/bge-large-en-v1.5\""
   ],
   "metadata": {
    "collapsed": false
   }
  },
  {
   "cell_type": "markdown",
   "source": [
    "## Raw Values\n",
    "\n",
    "Vectorize only stores embeddings, metadata and namespaces. If you want to store and retrieve raw values, you must leverage Cloudflare's SQL Database D1.\n",
    "\n",
    "You can create a database here and retrieve its id:\n",
    "\n",
    "[https://dash.cloudflare.com/YOUR-ACCT-NUMBER/workers/d1"
   ],
   "metadata": {
    "collapsed": false
   }
  },
  {
   "cell_type": "code",
   "execution_count": 4,
   "outputs": [],
   "source": [
    "# provide the id of your D1 Database\n",
    "d1_database_id = \"8ce9ce08-8961-475c-98fb-1ef0e6e4ca40\""
   ],
   "metadata": {
    "collapsed": false
   }
  },
  {
   "cell_type": "markdown",
   "source": [
    "## API Tokens\n",
    "\n",
    "This Python package is a wrapper around Cloudflare's REST API.  To interact with the API, you need to provid an API token with the appropriate privileges.\n",
    "\n",
    "You can create and manage API tokens here:\n",
    "\n",
    "https://dash.cloudflare.com/YOUR-ACCT-NUMBER/api-tokens"
   ],
   "metadata": {
    "collapsed": false
   }
  },
  {
   "cell_type": "code",
   "execution_count": 5,
   "outputs": [],
   "source": [
    "load_dotenv(\"/Users/collierking/Desktop/chartclass/langchain/libs/community/tests/integration_tests/vectorstores/.env\");"
   ],
   "metadata": {
    "collapsed": false
   }
  },
  {
   "cell_type": "markdown",
   "source": [
    "**Note:**\n",
    "CloudflareVectorize depends on WorkersAI, Vectorize (and D1 if you are using it to store and retrieve raw values).\n",
    "\n",
    "While you can create a single `api_token` with Edit privileges to all needed resources (WorkersAI, Vectorize & D1), you may want to follow the principle of \"least privilege access\" and create separate API tokens for each service\n"
   ],
   "metadata": {
    "collapsed": false
   }
  },
  {
   "cell_type": "code",
   "execution_count": 6,
   "outputs": [],
   "source": [
    "cf_acct_id = os.getenv(\"cf_acct_id\")\n",
    "\n",
    "# single token with WorkersAI, Vectorize & D1\n",
    "api_token = os.getenv(\"api_token\")\n",
    "\n",
    "# separate tokens with access to each service\n",
    "cf_ai_token = os.getenv(\"cf_ai_token\")\n",
    "cf_vectorize_token = os.getenv(\"cf_vectorize_token\")\n",
    "cf_d1_token = os.getenv(\"d1_api_token\")"
   ],
   "metadata": {
    "collapsed": false
   }
  },
  {
   "cell_type": "markdown",
   "source": [
    "# Documents\n",
    "\n",
    "For this example, we will use LangChain's Wikipedia loader to pull an article about Cloudflare.  We will store this in Vectorize and query its contents later."
   ],
   "metadata": {
    "collapsed": false
   }
  },
  {
   "cell_type": "code",
   "execution_count": 7,
   "outputs": [],
   "source": [
    "docs = WikipediaLoader(query=\"Cloudflare\", load_max_docs=2).load()"
   ],
   "metadata": {
    "collapsed": false
   }
  },
  {
   "cell_type": "markdown",
   "source": [
    "We will then create some simple chunks with metadata based on the chunk sections."
   ],
   "metadata": {
    "collapsed": false
   }
  },
  {
   "cell_type": "code",
   "execution_count": 8,
   "outputs": [],
   "source": [
    "text_splitter = \\\n",
    "    RecursiveCharacterTextSplitter(\n",
    "        # Set a really small chunk size, just to show.\n",
    "        chunk_size=100,\n",
    "        chunk_overlap=20,\n",
    "        length_function=len,\n",
    "        is_separator_regex=False,\n",
    "    )\n",
    "texts = text_splitter.create_documents([docs[0].page_content])\n",
    "\n",
    "running_section = \"\"\n",
    "for idx, text in enumerate(texts):\n",
    "    if text.page_content.startswith(\"=\"):\n",
    "        running_section = text.page_content\n",
    "        running_section = running_section.replace(\"=\", \"\").strip()\n",
    "    else:\n",
    "        if running_section == \"\":\n",
    "            text.metadata = {\"section\": \"Introduction\"}\n",
    "        else:\n",
    "            text.metadata = {\"section\": running_section}\n"
   ],
   "metadata": {
    "collapsed": false
   }
  },
  {
   "cell_type": "markdown",
   "source": [
    "These chunks look like this:\n"
   ],
   "metadata": {
    "collapsed": false
   }
  },
  {
   "cell_type": "code",
   "execution_count": 9,
   "outputs": [
    {
     "name": "stdout",
     "output_type": "stream",
     "text": [
      "page_content='Cloudflare, Inc., is an American company that provides content delivery network services,' metadata={'section': 'Introduction'} \n",
      "\n",
      " page_content='In 2014, Cloudflare began providing free DDoS mitigation for artists, activists, jour' metadata={'section': 'DDoS mitigation'}\n"
     ]
    }
   ],
   "source": [
    "print(texts[0],\"\\n\\n\",texts[-1])"
   ],
   "metadata": {
    "collapsed": false
   }
  },
  {
   "cell_type": "markdown",
   "source": [
    "# Embeddings\n",
    "\n",
    "In this example, we will create some embeddings using an embeddings model from WorkersAI and the `CloudflareWorkersAIEmbeddings` class from LangChain.\n",
    "\n",
    "This will instantiate that \"embedder\" for later use.\n"
   ],
   "metadata": {
    "collapsed": false
   }
  },
  {
   "cell_type": "code",
   "execution_count": 10,
   "outputs": [],
   "source": [
    "embedder = \\\n",
    "    CloudflareWorkersAIEmbeddings(\n",
    "        account_id=cf_acct_id,\n",
    "        api_token=cf_ai_token,\n",
    "        model_name=MODEL_WORKERSAI\n",
    "    )"
   ],
   "metadata": {
    "collapsed": false
   }
  },
  {
   "cell_type": "markdown",
   "source": [
    "# CloudflareVectorize Class\n",
    "\n",
    "Now we can create the CloudflareVectorize instance.  Here we passed:\n",
    "\n",
    "* The `embedding` instance from earlier\n",
    "* The account ID\n",
    "* A global API token for all services (WorkersAI, Vectorize, D1)\n",
    "* Individual API tokens for each service"
   ],
   "metadata": {
    "collapsed": false
   }
  },
  {
   "cell_type": "code",
   "execution_count": 11,
   "outputs": [],
   "source": [
    "cfVect = \\\n",
    "    CloudflareVectorize(\n",
    "        embedding=embedder,\n",
    "        account_id=cf_acct_id,\n",
    "        api_token=api_token, #(Optional if using service-specific token)\n",
    "        ai_api_token=cf_ai_token,  #(Optional if using global token)\n",
    "        d1_api_token=cf_d1_token,  #(Optional if using global token)\n",
    "        vectorize_api_token=cf_vectorize_token,  #(Optional if using global token)\n",
    "        d1_database_id=d1_database_id,  #(Optional if not using D1)\n",
    "    )"
   ],
   "metadata": {
    "collapsed": false
   }
  },
  {
   "cell_type": "markdown",
   "source": [
    "**Note:** These service-specific tokens (if provided) will take preference over a global token.  You could provide these instead of a global token.\n"
   ],
   "metadata": {
    "collapsed": false
   }
  },
  {
   "cell_type": "markdown",
   "source": [
    "## Gotchyas\n",
    "\n",
    "A few \"gotchyas\" are shown below for various missing token/parameter combinations"
   ],
   "metadata": {
    "collapsed": false
   }
  },
  {
   "cell_type": "markdown",
   "source": [
    "D1 Database ID provided but no \"global\" `api_token` and no `d1_api_token`"
   ],
   "metadata": {
    "collapsed": false
   }
  },
  {
   "cell_type": "code",
   "execution_count": 12,
   "outputs": [
    {
     "ename": "ValueError",
     "evalue": "`d1_database_id` provided, but no global `api_token` provided and no `d1_api_token` provided.",
     "output_type": "error",
     "traceback": [
      "\u001B[31m---------------------------------------------------------------------------\u001B[39m",
      "\u001B[31mValueError\u001B[39m                                Traceback (most recent call last)",
      "\u001B[36mCell\u001B[39m\u001B[36m \u001B[39m\u001B[32mIn[12]\u001B[39m\u001B[32m, line 2\u001B[39m\n\u001B[32m      1\u001B[39m cfVect = \\\n\u001B[32m----> \u001B[39m\u001B[32m2\u001B[39m     \u001B[43mCloudflareVectorize\u001B[49m\u001B[43m(\u001B[49m\n\u001B[32m      3\u001B[39m \u001B[43m        \u001B[49m\u001B[43membedding\u001B[49m\u001B[43m=\u001B[49m\u001B[43membedder\u001B[49m\u001B[43m,\u001B[49m\n\u001B[32m      4\u001B[39m \u001B[43m        \u001B[49m\u001B[43maccount_id\u001B[49m\u001B[43m=\u001B[49m\u001B[43mcf_acct_id\u001B[49m\u001B[43m,\u001B[49m\n\u001B[32m      5\u001B[39m \u001B[43m        \u001B[49m\u001B[38;5;66;43;03m# api_token=api_token, #(Optional if using service-specific token)\u001B[39;49;00m\n\u001B[32m      6\u001B[39m \u001B[43m        \u001B[49m\u001B[43mai_api_token\u001B[49m\u001B[43m=\u001B[49m\u001B[43mcf_ai_token\u001B[49m\u001B[43m,\u001B[49m\u001B[43m  \u001B[49m\u001B[38;5;66;43;03m#(Optional if using global token)\u001B[39;49;00m\n\u001B[32m      7\u001B[39m \u001B[43m        \u001B[49m\u001B[38;5;66;43;03m# d1_api_token=cf_d1_token,  #(Optional if using global token)\u001B[39;49;00m\n\u001B[32m      8\u001B[39m \u001B[43m        \u001B[49m\u001B[43mvectorize_api_token\u001B[49m\u001B[43m=\u001B[49m\u001B[43mcf_vectorize_token\u001B[49m\u001B[43m,\u001B[49m\u001B[43m  \u001B[49m\u001B[38;5;66;43;03m#(Optional if using global token)\u001B[39;49;00m\n\u001B[32m      9\u001B[39m \u001B[43m        \u001B[49m\u001B[43md1_database_id\u001B[49m\u001B[43m=\u001B[49m\u001B[43md1_database_id\u001B[49m\u001B[43m,\u001B[49m\u001B[43m  \u001B[49m\u001B[38;5;66;43;03m#(Optional if not using D1)\u001B[39;49;00m\n\u001B[32m     10\u001B[39m \u001B[43m    \u001B[49m\u001B[43m)\u001B[49m\n",
      "\u001B[36mFile \u001B[39m\u001B[32m~/Desktop/chartclass/langchain/libs/community/langchain_community/vectorstores/cloudflare_vectorize.py:130\u001B[39m, in \u001B[36mCloudflareVectorize.__init__\u001B[39m\u001B[34m(self, embedding, account_id, api_token, base_url, d1_database_id, **kwargs)\u001B[39m\n\u001B[32m    124\u001B[39m     \u001B[38;5;28;01mraise\u001B[39;00m \u001B[38;5;167;01mValueError\u001B[39;00m(\n\u001B[32m    125\u001B[39m         \u001B[33m\"\u001B[39m\u001B[33mNot enough API token values provided.  Please provide a global `api_token` or all of `ai_api_token`,`vectorize_api_token`.\u001B[39m\u001B[33m\"\u001B[39m)\n\u001B[32m    127\u001B[39m \u001B[38;5;28;01mif\u001B[39;00m \u001B[38;5;28mself\u001B[39m.d1_database_id \\\n\u001B[32m    128\u001B[39m         \u001B[38;5;129;01mand\u001B[39;00m \u001B[38;5;129;01mnot\u001B[39;00m \u001B[38;5;28mself\u001B[39m.api_token \\\n\u001B[32m    129\u001B[39m         \u001B[38;5;129;01mand\u001B[39;00m \u001B[38;5;129;01mnot\u001B[39;00m \u001B[38;5;28mself\u001B[39m.d1_api_token:\n\u001B[32m--> \u001B[39m\u001B[32m130\u001B[39m     \u001B[38;5;28;01mraise\u001B[39;00m \u001B[38;5;167;01mValueError\u001B[39;00m(\n\u001B[32m    131\u001B[39m         \u001B[33m\"\u001B[39m\u001B[33m`d1_database_id` provided, but no global `api_token` provided and no `d1_api_token` provided.\u001B[39m\u001B[33m\"\u001B[39m)\n",
      "\u001B[31mValueError\u001B[39m: `d1_database_id` provided, but no global `api_token` provided and no `d1_api_token` provided."
     ]
    }
   ],
   "source": [
    "cfVect = \\\n",
    "    CloudflareVectorize(\n",
    "        embedding=embedder,\n",
    "        account_id=cf_acct_id,\n",
    "        # api_token=api_token, #(Optional if using service-specific token)\n",
    "        ai_api_token=cf_ai_token,  #(Optional if using global token)\n",
    "        # d1_api_token=cf_d1_token,  #(Optional if using global token)\n",
    "        vectorize_api_token=cf_vectorize_token,  #(Optional if using global token)\n",
    "        d1_database_id=d1_database_id,  #(Optional if not using D1)\n",
    "    )"
   ],
   "metadata": {
    "collapsed": false
   }
  },
  {
   "cell_type": "markdown",
   "source": [
    "No \"global\" `api_token` provided and either missing `ai_api_token` or `vectorize_api_token`"
   ],
   "metadata": {
    "collapsed": false
   }
  },
  {
   "cell_type": "code",
   "execution_count": 13,
   "outputs": [
    {
     "ename": "ValueError",
     "evalue": "Not enough API token values provided.  Please provide a global `api_token` or all of `ai_api_token`,`vectorize_api_token`.",
     "output_type": "error",
     "traceback": [
      "\u001B[31m---------------------------------------------------------------------------\u001B[39m",
      "\u001B[31mValueError\u001B[39m                                Traceback (most recent call last)",
      "\u001B[36mCell\u001B[39m\u001B[36m \u001B[39m\u001B[32mIn[13]\u001B[39m\u001B[32m, line 2\u001B[39m\n\u001B[32m      1\u001B[39m cfVect = \\\n\u001B[32m----> \u001B[39m\u001B[32m2\u001B[39m     \u001B[43mCloudflareVectorize\u001B[49m\u001B[43m(\u001B[49m\n\u001B[32m      3\u001B[39m \u001B[43m        \u001B[49m\u001B[43membedding\u001B[49m\u001B[43m=\u001B[49m\u001B[43membedder\u001B[49m\u001B[43m,\u001B[49m\n\u001B[32m      4\u001B[39m \u001B[43m        \u001B[49m\u001B[43maccount_id\u001B[49m\u001B[43m=\u001B[49m\u001B[43mcf_acct_id\u001B[49m\u001B[43m,\u001B[49m\n\u001B[32m      5\u001B[39m \u001B[43m        \u001B[49m\u001B[38;5;66;43;03m# api_token=api_token, #(Optional if using service-specific token)\u001B[39;49;00m\n\u001B[32m      6\u001B[39m \u001B[43m        \u001B[49m\u001B[38;5;66;43;03m# ai_api_token=cf_ai_token,  #(Optional if using global token)\u001B[39;49;00m\n\u001B[32m      7\u001B[39m \u001B[43m        \u001B[49m\u001B[43md1_api_token\u001B[49m\u001B[43m=\u001B[49m\u001B[43mcf_d1_token\u001B[49m\u001B[43m,\u001B[49m\u001B[43m  \u001B[49m\u001B[38;5;66;43;03m#(Optional if using global token)\u001B[39;49;00m\n\u001B[32m      8\u001B[39m \u001B[43m        \u001B[49m\u001B[43mvectorize_api_token\u001B[49m\u001B[43m=\u001B[49m\u001B[43mcf_vectorize_token\u001B[49m\u001B[43m,\u001B[49m\u001B[43m  \u001B[49m\u001B[38;5;66;43;03m#(Optional if using global token)\u001B[39;49;00m\n\u001B[32m      9\u001B[39m \u001B[43m        \u001B[49m\u001B[43md1_database_id\u001B[49m\u001B[43m=\u001B[49m\u001B[43md1_database_id\u001B[49m\u001B[43m,\u001B[49m\u001B[43m  \u001B[49m\u001B[38;5;66;43;03m#(Optional if not using D1)\u001B[39;49;00m\n\u001B[32m     10\u001B[39m \u001B[43m    \u001B[49m\u001B[43m)\u001B[49m\n",
      "\u001B[36mFile \u001B[39m\u001B[32m~/Desktop/chartclass/langchain/libs/community/langchain_community/vectorstores/cloudflare_vectorize.py:124\u001B[39m, in \u001B[36mCloudflareVectorize.__init__\u001B[39m\u001B[34m(self, embedding, account_id, api_token, base_url, d1_database_id, **kwargs)\u001B[39m\n\u001B[32m    116\u001B[39m \u001B[38;5;28mself\u001B[39m.d1_headers = {\n\u001B[32m    117\u001B[39m     \u001B[33m\"\u001B[39m\u001B[33mAuthorization\u001B[39m\u001B[33m\"\u001B[39m: \u001B[33mf\u001B[39m\u001B[33m\"\u001B[39m\u001B[33mBearer \u001B[39m\u001B[38;5;132;01m{\u001B[39;00m\u001B[38;5;28mself\u001B[39m.d1_api_token\u001B[38;5;250m \u001B[39m\u001B[38;5;129;01mor\u001B[39;00m\u001B[38;5;250m \u001B[39m\u001B[38;5;28mself\u001B[39m.api_token\u001B[38;5;132;01m}\u001B[39;00m\u001B[33m\"\u001B[39m,\n\u001B[32m    118\u001B[39m     \u001B[33m\"\u001B[39m\u001B[33mContent-Type\u001B[39m\u001B[33m\"\u001B[39m: \u001B[33m\"\u001B[39m\u001B[33mapplication/json\u001B[39m\u001B[33m\"\u001B[39m,\n\u001B[32m    119\u001B[39m }\n\u001B[32m    121\u001B[39m \u001B[38;5;28;01mif\u001B[39;00m \u001B[38;5;129;01mnot\u001B[39;00m \u001B[38;5;28mself\u001B[39m.api_token \\\n\u001B[32m    122\u001B[39m         \u001B[38;5;129;01mand\u001B[39;00m (\u001B[38;5;129;01mnot\u001B[39;00m \u001B[38;5;28mself\u001B[39m.ai_api_token\n\u001B[32m    123\u001B[39m              \u001B[38;5;129;01mor\u001B[39;00m \u001B[38;5;129;01mnot\u001B[39;00m \u001B[38;5;28mself\u001B[39m.vectorize_api_token):\n\u001B[32m--> \u001B[39m\u001B[32m124\u001B[39m     \u001B[38;5;28;01mraise\u001B[39;00m \u001B[38;5;167;01mValueError\u001B[39;00m(\n\u001B[32m    125\u001B[39m         \u001B[33m\"\u001B[39m\u001B[33mNot enough API token values provided.  Please provide a global `api_token` or all of `ai_api_token`,`vectorize_api_token`.\u001B[39m\u001B[33m\"\u001B[39m)\n\u001B[32m    127\u001B[39m \u001B[38;5;28;01mif\u001B[39;00m \u001B[38;5;28mself\u001B[39m.d1_database_id \\\n\u001B[32m    128\u001B[39m         \u001B[38;5;129;01mand\u001B[39;00m \u001B[38;5;129;01mnot\u001B[39;00m \u001B[38;5;28mself\u001B[39m.api_token \\\n\u001B[32m    129\u001B[39m         \u001B[38;5;129;01mand\u001B[39;00m \u001B[38;5;129;01mnot\u001B[39;00m \u001B[38;5;28mself\u001B[39m.d1_api_token:\n\u001B[32m    130\u001B[39m     \u001B[38;5;28;01mraise\u001B[39;00m \u001B[38;5;167;01mValueError\u001B[39;00m(\n\u001B[32m    131\u001B[39m         \u001B[33m\"\u001B[39m\u001B[33m`d1_database_id` provided, but no global `api_token` provided and no `d1_api_token` provided.\u001B[39m\u001B[33m\"\u001B[39m)\n",
      "\u001B[31mValueError\u001B[39m: Not enough API token values provided.  Please provide a global `api_token` or all of `ai_api_token`,`vectorize_api_token`."
     ]
    }
   ],
   "source": [
    "cfVect = \\\n",
    "    CloudflareVectorize(\n",
    "        embedding=embedder,\n",
    "        account_id=cf_acct_id,\n",
    "        # api_token=api_token, #(Optional if using service-specific token)\n",
    "        # ai_api_token=cf_ai_token,  #(Optional if using global token)\n",
    "        d1_api_token=cf_d1_token,  #(Optional if using global token)\n",
    "        vectorize_api_token=cf_vectorize_token,  #(Optional if using global token)\n",
    "        d1_database_id=d1_database_id,  #(Optional if not using D1)\n",
    "    )"
   ],
   "metadata": {
    "collapsed": false
   }
  },
  {
   "cell_type": "markdown",
   "source": [
    "# Creating an Index\n",
    "\n",
    "Let's start off this example by creating and index (and first deleting if it exists).  If the index doesn't exist we will get a an error from Cloudflare telling us so."
   ],
   "metadata": {
    "collapsed": false
   }
  },
  {
   "cell_type": "code",
   "execution_count": 17,
   "outputs": [
    {
     "name": "stdout",
     "output_type": "stream",
     "text": [
      "410 Client Error: Gone for url: https://api.cloudflare.com/client/v4/accounts/7e5a6431075d52d65d279502b9980de3/vectorize/v2/indexes/test-langchain\n"
     ]
    }
   ],
   "source": [
    "try:\n",
    "    cfVect.delete_index(index_name=vectorize_index_name)\n",
    "except Exception as e:\n",
    "    print(e)"
   ],
   "metadata": {
    "collapsed": false
   }
  },
  {
   "cell_type": "code",
   "execution_count": 18,
   "outputs": [],
   "source": [
    "r = cfVect.create_index(index_name=vectorize_index_name)"
   ],
   "metadata": {
    "collapsed": false
   }
  },
  {
   "cell_type": "code",
   "execution_count": 19,
   "outputs": [
    {
     "name": "stdout",
     "output_type": "stream",
     "text": [
      "{'created_on': '2025-03-08T17:56:12.776646Z', 'modified_on': '2025-03-08T17:56:12.776646Z', 'name': 'test-langchain', 'description': '', 'config': {'dimensions': 1024, 'metric': 'cosine'}}\n"
     ]
    }
   ],
   "source": [
    "print(r)"
   ],
   "metadata": {
    "collapsed": false
   }
  },
  {
   "cell_type": "markdown",
   "source": [
    "# Listing Indexes\n",
    "\n",
    "Now, we can list our indexes on our account"
   ],
   "metadata": {
    "collapsed": false
   }
  },
  {
   "cell_type": "code",
   "execution_count": 21,
   "outputs": [
    {
     "name": "stdout",
     "output_type": "stream",
     "text": [
      "[{'created_on': '2025-03-08T17:56:12.776646Z', 'modified_on': '2025-03-08T17:56:12.776646Z', 'name': 'test-langchain', 'description': '', 'config': {'dimensions': 1024, 'metric': 'cosine'}}, {'created_on': '2025-03-08T02:31:53.968678Z', 'modified_on': '2025-03-08T02:31:53.968678Z', 'name': 'test-langchain2', 'description': '', 'config': {'dimensions': 1024, 'metric': 'cosine'}}]\n"
     ]
    }
   ],
   "source": [
    "indexes = cfVect.list_indexes()\n",
    "indexes = [x for x in indexes if \"test-langchain\" in x.get(\"name\")]\n",
    "print(indexes)"
   ],
   "metadata": {
    "collapsed": false
   }
  },
  {
   "cell_type": "markdown",
   "source": [
    "# Get Index\n",
    "We can also get certain indexes and retrieve more granular information about an index"
   ],
   "metadata": {
    "collapsed": false
   }
  },
  {
   "cell_type": "code",
   "execution_count": 61,
   "outputs": [
    {
     "name": "stdout",
     "output_type": "stream",
     "text": [
      "{'created_on': '2025-03-08T17:56:12.776646Z', 'modified_on': '2025-03-08T17:56:12.776646Z', 'name': 'test-langchain', 'description': '', 'config': {'dimensions': 1024, 'metric': 'cosine'}}\n"
     ]
    }
   ],
   "source": [
    "r = cfVect.get_index(index_name=vectorize_index_name)\n",
    "print(r)"
   ],
   "metadata": {
    "collapsed": false
   }
  },
  {
   "cell_type": "markdown",
   "source": [
    "This call returns a `processedUpToMutation` which can be used to track the status of operations such as creating indexes, adding or deleting records."
   ],
   "metadata": {
    "collapsed": false
   }
  },
  {
   "cell_type": "code",
   "execution_count": 62,
   "outputs": [
    {
     "name": "stdout",
     "output_type": "stream",
     "text": [
      "{'dimensions': 1024, 'vectorCount': 110, 'processedUpToDatetime': '2025-03-08T18:05:53.568Z', 'processedUpToMutation': 'a5499994-a863-4d6a-b26b-77c4918612b5'}\n"
     ]
    }
   ],
   "source": [
    "r = cfVect.get_index_info(index_name=vectorize_index_name)\n",
    "print(r)"
   ],
   "metadata": {
    "collapsed": false
   }
  },
  {
   "cell_type": "markdown",
   "source": [
    "# Adding Metadata Indexes\n",
    "\n",
    "It is common to assist retrieval by supplying metadata filters in quereies.  In Vectorize, this is accomplished by first creating a \"metadata index\" on your Vectorize Index.  We will do so for our example by creating one on the `section` field in our documents.\n",
    "\n",
    "**Reference:** [https://developers.cloudflare.com/vectorize/reference/metadata-filtering/](https://developers.cloudflare.com/vectorize/reference/metadata-filtering/)\n"
   ],
   "metadata": {
    "collapsed": false
   }
  },
  {
   "cell_type": "code",
   "execution_count": 22,
   "outputs": [
    {
     "name": "stdout",
     "output_type": "stream",
     "text": [
      "{'mutationId': '7dc8c166-67ad-4a95-95fc-411a92a374aa'}\n"
     ]
    }
   ],
   "source": [
    "r = cfVect.create_metadata_index(\n",
    "    property_name=\"section\",\n",
    "    index_type=\"string\",\n",
    "    index_name=vectorize_index_name,\n",
    ")\n",
    "print(r)"
   ],
   "metadata": {
    "collapsed": false
   }
  },
  {
   "cell_type": "markdown",
   "source": [
    "# Adding Documents\n",
    "\n",
    "Now we will add documents to our Vectorize Index.\n",
    "\n",
    "**Note:**\n",
    "Adding embeddings to Vectorize happens `asyncronously`, meaning there will be a small delay between adding the embeddings and being able to query them.  By default `add_documents` has a `wait=True` parameter which waits for this operation to complete before returning a response.  If you do not want the program to wait for embeddings availability, you can set this to `wait=False`.\n"
   ],
   "metadata": {
    "collapsed": false
   }
  },
  {
   "cell_type": "code",
   "execution_count": 24,
   "outputs": [],
   "source": [
    "r = cfVect.add_documents(\n",
    "    index_name=vectorize_index_name,\n",
    "    documents=texts\n",
    ")"
   ],
   "metadata": {
    "collapsed": false
   }
  },
  {
   "cell_type": "code",
   "execution_count": 29,
   "outputs": [
    {
     "name": "stdout",
     "output_type": "stream",
     "text": [
      "{\"result\": {\"mutationId\": \"a5499994-a863-4d6a-b26b-77c4918612b5\"}, \"success\": true, \"errors\": [], \"messages\": [], \"ids\": [\"a1a30a1a-3b93-47c9-b6c7-eb79889b8f51\", \"b0b08af8-db77-460c-903d-7cd4cedfac4e\", \"b310dc9c-c48b-44c6-9cc0-ae615990015a\", \"d7645bdc-2dc6-49c2-973a-b1af9b4fb3d2\", \"b923f84c-78e8-43a\n"
     ]
    }
   ],
   "source": [
    "print(json.dumps(r)[:300])"
   ],
   "metadata": {
    "collapsed": false
   }
  },
  {
   "cell_type": "markdown",
   "source": [
    "# Query/Search\n",
    "\n",
    "We will do some searches on our embeddings.  We can specify our search `query` and the top number of results we want with `k`.\n"
   ],
   "metadata": {
    "collapsed": false
   }
  },
  {
   "cell_type": "code",
   "execution_count": 33,
   "outputs": [],
   "source": [
    "query_documents = \\\n",
    "    cfVect.similarity_search(\n",
    "        index_name=vectorize_index_name,\n",
    "        query=\"california\",\n",
    "        k=10\n",
    "    )"
   ],
   "metadata": {
    "collapsed": false
   }
  },
  {
   "cell_type": "code",
   "execution_count": 34,
   "outputs": [
    {
     "name": "stdout",
     "output_type": "stream",
     "text": [
      "page_content='and other services. Cloudflare's headquarters are in San Francisco, California. According to' metadata={'id': 'd7645bdc-2dc6-49c2-973a-b1af9b4fb3d2', 'score': 0.6114662}\n"
     ]
    }
   ],
   "source": [
    "print(query_documents[0])"
   ],
   "metadata": {
    "collapsed": false
   }
  },
  {
   "cell_type": "markdown",
   "source": [
    "## Output\n",
    "\n",
    "If you want to return metadata you can pass `return_metadata='all' | 'indexed'`.  The default is `none` or no metadata returned.\n",
    "\n",
    "If you want to return the embeddings values, you can pass `return_values=True`.  The default is `False`\n",
    "\n",
    "**Note:**\n",
    "If you pass non-default values for either of these, the results will be limited to 20.\n",
    "\n",
    "[https://developers.cloudflare.com/vectorize/platform/limits/](https://developers.cloudflare.com/vectorize/platform/limits/)"
   ],
   "metadata": {
    "collapsed": false
   }
  },
  {
   "cell_type": "code",
   "execution_count": 35,
   "outputs": [],
   "source": [
    "query_documents = \\\n",
    "    cfVect.similarity_search(\n",
    "        index_name=vectorize_index_name,\n",
    "        query=\"california\",\n",
    "        return_values=True,\n",
    "        return_metadata='all',\n",
    "        k=100\n",
    "    )"
   ],
   "metadata": {
    "collapsed": false
   }
  },
  {
   "cell_type": "code",
   "execution_count": 37,
   "outputs": [
    {
     "name": "stdout",
     "output_type": "stream",
     "text": [
      "20\n"
     ]
    }
   ],
   "source": [
    "print(len(query_documents))"
   ],
   "metadata": {
    "collapsed": false
   }
  },
  {
   "cell_type": "code",
   "execution_count": 42,
   "outputs": [
    {
     "name": "stdout",
     "output_type": "stream",
     "text": [
      "page_content='and other services. Cloudflare's headquarters are in San Francisco, California. According to' metadata={'id': 'd7645bdc-2dc6-49c2-973a-b1af9b4fb3d2', 'score': 0.6114662, 'metadata': {'section': 'Introduction'}, 'values': [-0.028919144, -0.019105384, -0.000850724, 0.012162158, 0.0185395\n"
     ]
    }
   ],
   "source": [
    "print(str(query_documents[0])[:300])"
   ],
   "metadata": {
    "collapsed": false
   }
  },
  {
   "cell_type": "markdown",
   "source": [
    "If you'd like the `scores` to be returned separately, you can use `similarity_search_with_score`\n"
   ],
   "metadata": {
    "collapsed": false
   }
  },
  {
   "cell_type": "code",
   "execution_count": 43,
   "outputs": [],
   "source": [
    "query_documents, query_scores = \\\n",
    "    cfVect.similarity_search_with_score(\n",
    "        index_name=vectorize_index_name,\n",
    "        query=\"california\",\n",
    "        k=100,\n",
    "        return_metadata=\"all\",\n",
    "    )"
   ],
   "metadata": {
    "collapsed": false
   }
  },
  {
   "cell_type": "code",
   "execution_count": 46,
   "outputs": [
    {
     "name": "stdout",
     "output_type": "stream",
     "text": [
      "page_content='and other services. Cloudflare's headquarters are in San Francisco, California. According to' metadata={'id': 'd7645bdc-2dc6-49c2-973a-b1af9b4fb3d2', 'score': 0.6114662, 'metadata': {'section': 'Introduction'}}\n"
     ]
    }
   ],
   "source": [
    "print(query_documents[0])"
   ],
   "metadata": {
    "collapsed": false
   }
  },
  {
   "cell_type": "code",
   "execution_count": 47,
   "outputs": [
    {
     "name": "stdout",
     "output_type": "stream",
     "text": [
      "0.6114662\n"
     ]
    }
   ],
   "source": [
    "print(query_scores[1])"
   ],
   "metadata": {
    "collapsed": false
   }
  },
  {
   "cell_type": "markdown",
   "source": [
    "## Including D1\n",
    "All of the add and search methods on CloudflareVectorize support an `include_d1` parameter (default=True).\n",
    "\n",
    "This is to configure whether you want to store/retrieve raw values.\n",
    "\n",
    "If you do not want to use D1 for this, you can set this to `include=False`.  This will return documents with an empty `page_content` field."
   ],
   "metadata": {
    "collapsed": false
   }
  },
  {
   "cell_type": "code",
   "execution_count": 73,
   "outputs": [],
   "source": [
    "query_documents, query_scores = \\\n",
    "    cfVect.similarity_search_with_score(\n",
    "        index_name=vectorize_index_name,\n",
    "        query=\"california\",\n",
    "        k=100,\n",
    "        return_metadata=\"all\",\n",
    "        include_d1=False\n",
    "    )"
   ],
   "metadata": {
    "collapsed": false
   }
  },
  {
   "cell_type": "code",
   "execution_count": 75,
   "outputs": [
    {
     "data": {
      "text/plain": "Document(id='75f83c36-4a9f-47f5-88e6-bf76e71c7335', metadata={'id': '75f83c36-4a9f-47f5-88e6-bf76e71c7335', 'score': 0.6114662, 'metadata': {'section': 'Introduction'}}, page_content='')"
     },
     "execution_count": 75,
     "metadata": {},
     "output_type": "execute_result"
    }
   ],
   "source": [
    "query_documents[0]"
   ],
   "metadata": {
    "collapsed": false
   }
  },
  {
   "cell_type": "markdown",
   "source": [
    "## Searching with Metadata\n",
    "\n",
    "As mentioned before, Vectorize supports filtered search via filtered on indexes metadata fields.  Here is an example where we search for `Introduction` values within the indexed `section` metadata field.\n",
    "\n",
    "More info on searching on Metadata fields is here: [https://developers.cloudflare.com/vectorize/reference/metadata-filtering/](https://developers.cloudflare.com/vectorize/reference/metadata-filtering/)\n"
   ],
   "metadata": {
    "collapsed": false
   }
  },
  {
   "cell_type": "code",
   "execution_count": 48,
   "outputs": [],
   "source": [
    "query_documents = \\\n",
    "    cfVect.similarity_search(\n",
    "        index_name=vectorize_index_name,\n",
    "        query=\"california\",\n",
    "        k=100,\n",
    "        filter={\"section\": \"Introduction\"},\n",
    "        return_metadata=\"all\",\n",
    "        return_values=True\n",
    "    )"
   ],
   "metadata": {
    "collapsed": false
   }
  },
  {
   "cell_type": "code",
   "execution_count": 51,
   "outputs": [
    {
     "name": "stdout",
     "output_type": "stream",
     "text": [
      "page_content='and other services. Cloudflare's headquarters are in San Francisco, California. According to' metadata={'id': 'd7645bdc-2dc6-49c2-973a-b1af9b4fb3d2', 'score': 0.6114662, 'metadata': {'section': 'Introduction'}, 'values': [-0.028919144, -0.019105384, -0.000850724, 0.012162158, 0.0185395\n"
     ]
    }
   ],
   "source": [
    "print(str(query_documents[0])[:300])"
   ],
   "metadata": {
    "collapsed": false
   }
  },
  {
   "cell_type": "markdown",
   "source": [
    "## Search by IDs\n",
    "We can also retrieve specific records for specific IDs"
   ],
   "metadata": {
    "collapsed": false
   }
  },
  {
   "cell_type": "code",
   "execution_count": 58,
   "outputs": [],
   "source": [
    "sample_ids = [x.id for x in query_documents][:3]\n",
    "\n",
    "query_documents = \\\n",
    "    cfVect.get_by_ids(\n",
    "        index_name=vectorize_index_name,\n",
    "        ids=sample_ids\n",
    "    )"
   ],
   "metadata": {
    "collapsed": false
   }
  },
  {
   "cell_type": "code",
   "execution_count": 59,
   "outputs": [
    {
     "name": "stdout",
     "output_type": "stream",
     "text": [
      "3\n"
     ]
    }
   ],
   "source": [
    "print(len(query_documents))"
   ],
   "metadata": {
    "collapsed": false
   }
  },
  {
   "cell_type": "markdown",
   "source": [
    "# Deleting Records\n",
    "We can delete records by their ids as well\n"
   ],
   "metadata": {
    "collapsed": false
   }
  },
  {
   "cell_type": "code",
   "execution_count": 63,
   "outputs": [],
   "source": [
    "r = cfVect.delete(\n",
    "        index_name=vectorize_index_name,\n",
    "        ids=sample_ids\n",
    "    )"
   ],
   "metadata": {
    "collapsed": false
   }
  },
  {
   "cell_type": "code",
   "execution_count": 64,
   "outputs": [
    {
     "name": "stdout",
     "output_type": "stream",
     "text": [
      "{'result': {'mutationId': '7d204ebe-ced7-4227-9e20-06baa8b7eaa9'}, 'result_info': None, 'success': True, 'errors': [], 'messages': [], 'ids': ['d7645bdc-2dc6-49c2-973a-b1af9b4fb3d2', '6e1a432d-7d7c-46a3-875b-e9a8b95fbae4', 'bda51df6-9be5-46b9-bf84-f65a71e33ffa']}\n"
     ]
    }
   ],
   "source": [
    "print(r)"
   ],
   "metadata": {
    "collapsed": false
   }
  },
  {
   "cell_type": "markdown",
   "source": [
    "And to confirm deletion"
   ],
   "metadata": {
    "collapsed": false
   }
  },
  {
   "cell_type": "code",
   "execution_count": 66,
   "outputs": [
    {
     "name": "stdout",
     "output_type": "stream",
     "text": [
      "0\n"
     ]
    }
   ],
   "source": [
    "query_documents = \\\n",
    "    cfVect.get_by_ids(\n",
    "        index_name=vectorize_index_name,\n",
    "        ids=sample_ids\n",
    "    )\n",
    "print(len(query_documents))"
   ],
   "metadata": {
    "collapsed": false
   }
  },
  {
   "cell_type": "markdown",
   "source": [
    "# Creating from Documents\n",
    "LangChain stipulates that all vectorstores must have a `from_documents` method to instantiate a new Vectorstore from documents.  This is a more streamlined method than the individual `create, add` steps shown above.\n",
    "\n",
    "You can do that as shown here:"
   ],
   "metadata": {
    "collapsed": false
   }
  },
  {
   "cell_type": "code",
   "execution_count": 67,
   "outputs": [],
   "source": [
    "vectorize_index_name = \"test-langchain-from-docs\""
   ],
   "metadata": {
    "collapsed": false
   }
  },
  {
   "cell_type": "code",
   "execution_count": 70,
   "outputs": [],
   "source": [
    "#todo: what is up with these key errors\n",
    "\n",
    "cfVect = \\\n",
    "    CloudflareVectorize.from_documents(\n",
    "        account_id=cf_acct_id,\n",
    "        index_name=vectorize_index_name,\n",
    "        documents=texts,\n",
    "        embedding=embedder,\n",
    "        # api_token=cf_vectorize_token,\n",
    "        d1_database_id=d1_database_id,\n",
    "        ai_api_token=cf_ai_token,\n",
    "        d1_api_token=cf_d1_token,\n",
    "        vectorize_api_token=cf_vectorize_token\n",
    "    )"
   ],
   "metadata": {
    "collapsed": false
   }
  },
  {
   "cell_type": "code",
   "execution_count": 71,
   "outputs": [
    {
     "name": "stdout",
     "output_type": "stream",
     "text": [
      "page_content='and other services. Cloudflare's headquarters are in San Francisco, California. According to' metadata={'id': '75f83c36-4a9f-47f5-88e6-bf76e71c7335', 'score': 0.6114662}\n"
     ]
    }
   ],
   "source": [
    "#query for documents\n",
    "query_documents = \\\n",
    "    cfVect.similarity_search(\n",
    "        index_name=vectorize_index_name,\n",
    "        query=\"california\",\n",
    "        k=10\n",
    "    )\n",
    "\n",
    "print(query_documents[0])\n"
   ],
   "metadata": {
    "collapsed": false
   }
  },
  {
   "cell_type": "code",
   "execution_count": null,
   "outputs": [],
   "source": [],
   "metadata": {
    "collapsed": false
   }
  }
 ],
 "metadata": {
  "kernelspec": {
   "display_name": "Python 3",
   "language": "python",
   "name": "python3"
  },
  "language_info": {
   "codemirror_mode": {
    "name": "ipython",
    "version": 2
   },
   "file_extension": ".py",
   "mimetype": "text/x-python",
   "name": "python",
   "nbconvert_exporter": "python",
   "pygments_lexer": "ipython2",
   "version": "2.7.6"
  }
 },
 "nbformat": 4,
 "nbformat_minor": 0
}
